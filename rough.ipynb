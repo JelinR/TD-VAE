{
 "cells": [
  {
   "cell_type": "markdown",
   "id": "71be538b",
   "metadata": {},
   "source": [
    "### Load Data"
   ]
  },
  {
   "cell_type": "code",
   "execution_count": null,
   "metadata": {},
   "outputs": [
    {
     "name": "stderr",
     "output_type": "stream",
     "text": [
      "/mnt/anaconda3/envs/vae/lib/python3.9/site-packages/tqdm/auto.py:21: TqdmWarning: IProgress not found. Please update jupyter and ipywidgets. See https://ipywidgets.readthedocs.io/en/stable/user_install.html\n",
      "  from .autonotebook import tqdm as notebook_tqdm\n"
     ]
    },
    {
     "name": "stdout",
     "output_type": "stream",
     "text": [
      "Downloading from https://www.kaggle.com/api/v1/datasets/download/canonwu/mnistpkl?dataset_version_number=1...\n"
     ]
    },
    {
     "name": "stderr",
     "output_type": "stream",
     "text": [
      "100%|██████████| 32.9M/32.9M [00:02<00:00, 16.6MB/s]"
     ]
    },
    {
     "name": "stdout",
     "output_type": "stream",
     "text": [
      "Extracting files...\n"
     ]
    },
    {
     "name": "stderr",
     "output_type": "stream",
     "text": [
      "\n"
     ]
    },
    {
     "name": "stdout",
     "output_type": "stream",
     "text": [
      "Path to dataset files: /home/ubuntu/.cache/kagglehub/datasets/canonwu/mnistpkl/versions/1\n"
     ]
    }
   ],
   "source": [
    "import kagglehub\n",
    "\n",
    "# Download latest version\n",
    "#path = kagglehub.dataset_download(\"canonwu/mnistpkl\")\n",
    "\n",
    "print(\"Path to dataset files:\", path)"
   ]
  },
  {
   "cell_type": "code",
   "execution_count": 7,
   "id": "93cb1b5a",
   "metadata": {},
   "outputs": [],
   "source": [
    "#Load MNIST\n",
    "from torchvision.datasets import MNIST\n",
    "import numpy as np\n",
    "\n",
    "# Load train and test datasets\n",
    "train_dataset = MNIST(root=\"./data\", train=True, download=True)\n",
    "test_dataset = MNIST(root=\"./data\", train=False, download=True)\n",
    "\n",
    "# Extract image data from both sets and convert to NumPy arrays\n",
    "train_images = np.stack([np.array(img, dtype=np.uint8) for img, _ in train_dataset])  # (60000, 28, 28)\n",
    "test_images = np.stack([np.array(img, dtype=np.uint8) for img, _ in test_dataset])    # (10000, 28, 28)\n",
    "\n",
    "# Combine into one variable\n",
    "all_images = np.concatenate([train_images, test_images], axis=0)  # (70000, 28, 28)"
   ]
  },
  {
   "cell_type": "code",
   "execution_count": 8,
   "id": "da085cbf",
   "metadata": {},
   "outputs": [
    {
     "data": {
      "text/plain": [
       "(70000, 28, 28)"
      ]
     },
     "execution_count": 8,
     "metadata": {},
     "output_type": "execute_result"
    }
   ],
   "source": [
    "all_images.shape"
   ]
  },
  {
   "cell_type": "code",
   "execution_count": 2,
   "id": "a895e929",
   "metadata": {},
   "outputs": [
    {
     "data": {
      "text/plain": [
       "Dataset MNIST\n",
       "    Number of datapoints: 60000\n",
       "    Root location: ./data\n",
       "    Split: Train"
      ]
     },
     "execution_count": 2,
     "metadata": {},
     "output_type": "execute_result"
    }
   ],
   "source": [
    "train_dataset"
   ]
  },
  {
   "cell_type": "code",
   "execution_count": 3,
   "id": "a43d9fb3",
   "metadata": {},
   "outputs": [],
   "source": [
    "import numpy as np"
   ]
  },
  {
   "cell_type": "code",
   "execution_count": 4,
   "id": "a00b2123",
   "metadata": {},
   "outputs": [
    {
     "name": "stdout",
     "output_type": "stream",
     "text": [
      "(<PIL.Image.Image image mode=L size=28x28 at 0x7FD029EA74C0>, 5)\n"
     ]
    }
   ],
   "source": [
    "for t in train_dataset:\n",
    "    print(t)\n",
    "    break"
   ]
  },
  {
   "cell_type": "code",
   "execution_count": 5,
   "id": "f7f26195",
   "metadata": {},
   "outputs": [
    {
     "data": {
      "image/png": "[encoded data removed]",
      "text/plain": [
       "<PIL.Image.Image image mode=L size=28x28>"
      ]
     },
     "execution_count": 5,
     "metadata": {},
     "output_type": "execute_result"
    }
   ],
   "source": [
    "t[0]"
   ]
  },
  {
   "cell_type": "markdown",
   "id": "fcc92573",
   "metadata": {},
   "source": [
    "### Plot Training Loss"
   ]
  },
  {
   "cell_type": "code",
   "execution_count": 33,
   "id": "3e499bfd",
   "metadata": {},
   "outputs": [],
   "source": [
    "import os\n",
    "import torch\n",
    "from tqdm import tqdm\n",
    "import matplotlib.pyplot as plt"
   ]
  },
  {
   "cell_type": "code",
   "execution_count": 39,
   "id": "d463e7dc",
   "metadata": {},
   "outputs": [
    {
     "name": "stderr",
     "output_type": "stream",
     "text": [
      "100%|██████████| 78/78 [00:03<00:00, 25.88it/s]\n"
     ]
    }
   ],
   "source": [
    "save_path = \"./output/model\"\n",
    "loss_per_epoch = {}\n",
    "\n",
    "for epoch_num in tqdm(range(len(os.listdir(save_path)))):\n",
    "\n",
    "    file_path = os.path.join(save_path, f\"new_model_epoch_{epoch_num}.pt\")\n",
    "\n",
    "    d = torch.load(file_path)\n",
    "    loss_per_epoch[d[\"epoch\"]] = d[\"loss\"].detach().cpu().numpy()"
   ]
  },
  {
   "cell_type": "code",
   "execution_count": 40,
   "id": "11951f0f",
   "metadata": {},
   "outputs": [
    {
     "data": {
      "text/plain": [
       "{0: array(363.01096, dtype=float32),\n",
       " 1: array(304.42712, dtype=float32),\n",
       " 2: array(291.22345, dtype=float32),\n",
       " 3: array(251.32732, dtype=float32),\n",
       " 4: array(289.73608, dtype=float32),\n",
       " 5: array(313.57166, dtype=float32),\n",
       " 6: array(281.04184, dtype=float32),\n",
       " 7: array(281.94226, dtype=float32),\n",
       " 8: array(310.62753, dtype=float32),\n",
       " 9: array(268.46103, dtype=float32),\n",
       " 10: array(302.4469, dtype=float32),\n",
       " 11: array(267.3105, dtype=float32),\n",
       " 12: array(253.70848, dtype=float32),\n",
       " 13: array(261.2951, dtype=float32),\n",
       " 14: array(248.49944, dtype=float32),\n",
       " 15: array(255.25061, dtype=float32),\n",
       " 16: array(245.83911, dtype=float32),\n",
       " 17: array(250.90002, dtype=float32),\n",
       " 18: array(253.63571, dtype=float32),\n",
       " 19: array(252.25339, dtype=float32),\n",
       " 20: array(240.15587, dtype=float32),\n",
       " 21: array(252.888, dtype=float32),\n",
       " 22: array(235.13322, dtype=float32),\n",
       " 23: array(251.71252, dtype=float32),\n",
       " 24: array(257.51852, dtype=float32),\n",
       " 25: array(258.51404, dtype=float32),\n",
       " 26: array(258.9841, dtype=float32),\n",
       " 27: array(248.22998, dtype=float32),\n",
       " 28: array(258.112, dtype=float32),\n",
       " 29: array(254.49796, dtype=float32),\n",
       " 30: array(241.23045, dtype=float32),\n",
       " 31: array(246.54587, dtype=float32),\n",
       " 32: array(241.66435, dtype=float32),\n",
       " 33: array(249.98662, dtype=float32),\n",
       " 34: array(248.33488, dtype=float32),\n",
       " 35: array(254.12085, dtype=float32),\n",
       " 36: array(259.39905, dtype=float32),\n",
       " 37: array(241.52367, dtype=float32),\n",
       " 38: array(227.30785, dtype=float32),\n",
       " 39: array(249.87155, dtype=float32),\n",
       " 40: array(228.08838, dtype=float32),\n",
       " 41: array(245.12912, dtype=float32),\n",
       " 42: array(227.99695, dtype=float32),\n",
       " 43: array(224.05505, dtype=float32),\n",
       " 44: array(250.56308, dtype=float32),\n",
       " 45: array(241.77493, dtype=float32),\n",
       " 46: array(232.0184, dtype=float32),\n",
       " 47: array(251.36526, dtype=float32),\n",
       " 48: array(229.4481, dtype=float32),\n",
       " 49: array(238.39038, dtype=float32),\n",
       " 50: array(236.58545, dtype=float32),\n",
       " 51: array(228.79254, dtype=float32),\n",
       " 52: array(239.70642, dtype=float32),\n",
       " 53: array(223.85815, dtype=float32),\n",
       " 54: array(236.96646, dtype=float32),\n",
       " 55: array(240.94, dtype=float32),\n",
       " 56: array(233.77751, dtype=float32),\n",
       " 57: array(236.01144, dtype=float32),\n",
       " 58: array(228.16618, dtype=float32),\n",
       " 59: array(222.23373, dtype=float32),\n",
       " 60: array(216.27234, dtype=float32),\n",
       " 61: array(222.43622, dtype=float32),\n",
       " 62: array(246.56311, dtype=float32),\n",
       " 63: array(219.36597, dtype=float32),\n",
       " 64: array(234.18628, dtype=float32),\n",
       " 65: array(231.11845, dtype=float32),\n",
       " 66: array(237.86436, dtype=float32),\n",
       " 67: array(236.71762, dtype=float32),\n",
       " 68: array(218.71506, dtype=float32),\n",
       " 69: array(228.54001, dtype=float32),\n",
       " 70: array(208.17868, dtype=float32),\n",
       " 71: array(220.16873, dtype=float32),\n",
       " 72: array(220.54904, dtype=float32),\n",
       " 73: array(219.60028, dtype=float32),\n",
       " 74: array(224.7785, dtype=float32),\n",
       " 75: array(227.20468, dtype=float32),\n",
       " 76: array(236.61292, dtype=float32),\n",
       " 77: array(241.1456, dtype=float32)}"
      ]
     },
     "execution_count": 40,
     "metadata": {},
     "output_type": "execute_result"
    }
   ],
   "source": [
    "loss_per_epoch"
   ]
  },
  {
   "cell_type": "code",
   "execution_count": 41,
   "id": "a867132b",
   "metadata": {},
   "outputs": [
    {
     "data": {
      "text/plain": [
       "[<matplotlib.lines.Line2D at 0x7fcff1328250>]"
      ]
     },
     "execution_count": 41,
     "metadata": {},
     "output_type": "execute_result"
    },
    {
     "data": {
      "image/png": "[encoded data removed]",
      "text/plain": [
       "<Figure size 640x480 with 1 Axes>"
      ]
     },
     "metadata": {},
     "output_type": "display_data"
    }
   ],
   "source": [
    "plt.plot(loss_per_epoch.keys(), loss_per_epoch.values())"
   ]
  },
  {
   "cell_type": "code",
   "execution_count": null,
   "id": "25924bda",
   "metadata": {},
   "outputs": [],
   "source": []
  }
 ],
 "metadata": {
  "kernelspec": {
   "display_name": "vae",
   "language": "python",
   "name": "python3"
  },
  "language_info": {
   "codemirror_mode": {
    "name": "ipython",
    "version": 3
   },
   "file_extension": ".py",
   "mimetype": "text/x-python",
   "name": "python",
   "nbconvert_exporter": "python",
   "pygments_lexer": "ipython3",
   "version": "3.9.23"
  }
 },
 "nbformat": 4,
 "nbformat_minor": 5
}
